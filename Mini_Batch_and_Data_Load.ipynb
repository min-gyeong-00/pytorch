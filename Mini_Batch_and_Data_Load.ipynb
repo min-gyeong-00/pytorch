{
  "nbformat": 4,
  "nbformat_minor": 0,
  "metadata": {
    "colab": {
      "provenance": [],
      "authorship_tag": "ABX9TyNVHCqAuIYtYClUuCGHMV9V",
      "include_colab_link": true
    },
    "kernelspec": {
      "name": "python3",
      "display_name": "Python 3"
    },
    "language_info": {
      "name": "python"
    }
  },
  "cells": [
    {
      "cell_type": "markdown",
      "metadata": {
        "id": "view-in-github",
        "colab_type": "text"
      },
      "source": [
        "<a href=\"https://colab.research.google.com/github/min-gyeong-00/pytorch/blob/main/Mini_Batch_and_Data_Load.ipynb\" target=\"_parent\"><img src=\"https://colab.research.google.com/assets/colab-badge.svg\" alt=\"Open In Colab\"/></a>"
      ]
    },
    {
      "cell_type": "code",
      "execution_count": 1,
      "metadata": {
        "colab": {
          "base_uri": "https://localhost:8080/"
        },
        "id": "1yZzhp1XNhGt",
        "outputId": "c1e2efd8-3835-4f6a-a339-9395eeb6ac56"
      },
      "outputs": [
        {
          "output_type": "stream",
          "name": "stdout",
          "text": [
            "Epoch    0/20 Batch 1/3 Cost: 37856.152344\n",
            "Epoch    0/20 Batch 2/3 Cost: 15382.223633\n",
            "Epoch    0/20 Batch 3/3 Cost: 2209.143555\n",
            "Epoch    1/20 Batch 1/3 Cost: 1573.110352\n",
            "Epoch    1/20 Batch 2/3 Cost: 389.493195\n",
            "Epoch    1/20 Batch 3/3 Cost: 43.098457\n",
            "Epoch    2/20 Batch 1/3 Cost: 45.376724\n",
            "Epoch    2/20 Batch 2/3 Cost: 41.340149\n",
            "Epoch    2/20 Batch 3/3 Cost: 0.937383\n",
            "Epoch    3/20 Batch 1/3 Cost: 0.281140\n",
            "Epoch    3/20 Batch 2/3 Cost: 9.140011\n",
            "Epoch    3/20 Batch 3/3 Cost: 11.817665\n",
            "Epoch    4/20 Batch 1/3 Cost: 3.039132\n",
            "Epoch    4/20 Batch 2/3 Cost: 5.205054\n",
            "Epoch    4/20 Batch 3/3 Cost: 7.062150\n",
            "Epoch    5/20 Batch 1/3 Cost: 9.650468\n",
            "Epoch    5/20 Batch 2/3 Cost: 6.103712\n",
            "Epoch    5/20 Batch 3/3 Cost: 1.246881\n",
            "Epoch    6/20 Batch 1/3 Cost: 6.011637\n",
            "Epoch    6/20 Batch 2/3 Cost: 5.862831\n",
            "Epoch    6/20 Batch 3/3 Cost: 1.240721\n",
            "Epoch    7/20 Batch 1/3 Cost: 1.485264\n",
            "Epoch    7/20 Batch 2/3 Cost: 7.270843\n",
            "Epoch    7/20 Batch 3/3 Cost: 7.458126\n",
            "Epoch    8/20 Batch 1/3 Cost: 5.222293\n",
            "Epoch    8/20 Batch 2/3 Cost: 4.719960\n",
            "Epoch    8/20 Batch 3/3 Cost: 4.181019\n",
            "Epoch    9/20 Batch 1/3 Cost: 4.085351\n",
            "Epoch    9/20 Batch 2/3 Cost: 5.002337\n",
            "Epoch    9/20 Batch 3/3 Cost: 5.732318\n",
            "Epoch   10/20 Batch 1/3 Cost: 10.652624\n",
            "Epoch   10/20 Batch 2/3 Cost: 5.533263\n",
            "Epoch   10/20 Batch 3/3 Cost: 1.107479\n",
            "Epoch   11/20 Batch 1/3 Cost: 6.027255\n",
            "Epoch   11/20 Batch 2/3 Cost: 5.563265\n",
            "Epoch   11/20 Batch 3/3 Cost: 2.128368\n",
            "Epoch   12/20 Batch 1/3 Cost: 10.417865\n",
            "Epoch   12/20 Batch 2/3 Cost: 6.072742\n",
            "Epoch   12/20 Batch 3/3 Cost: 0.522012\n",
            "Epoch   13/20 Batch 1/3 Cost: 5.768360\n",
            "Epoch   13/20 Batch 2/3 Cost: 0.915932\n",
            "Epoch   13/20 Batch 3/3 Cost: 12.727200\n",
            "Epoch   14/20 Batch 1/3 Cost: 4.888581\n",
            "Epoch   14/20 Batch 2/3 Cost: 3.003518\n",
            "Epoch   14/20 Batch 3/3 Cost: 10.832592\n",
            "Epoch   15/20 Batch 1/3 Cost: 6.447242\n",
            "Epoch   15/20 Batch 2/3 Cost: 5.410869\n",
            "Epoch   15/20 Batch 3/3 Cost: 4.798383\n",
            "Epoch   16/20 Batch 1/3 Cost: 4.950456\n",
            "Epoch   16/20 Batch 2/3 Cost: 6.961856\n",
            "Epoch   16/20 Batch 3/3 Cost: 6.363117\n",
            "Epoch   17/20 Batch 1/3 Cost: 6.812806\n",
            "Epoch   17/20 Batch 2/3 Cost: 4.403840\n",
            "Epoch   17/20 Batch 3/3 Cost: 6.451953\n",
            "Epoch   18/20 Batch 1/3 Cost: 6.811929\n",
            "Epoch   18/20 Batch 2/3 Cost: 7.876512\n",
            "Epoch   18/20 Batch 3/3 Cost: 5.767297\n",
            "Epoch   19/20 Batch 1/3 Cost: 5.175192\n",
            "Epoch   19/20 Batch 2/3 Cost: 3.447723\n",
            "Epoch   19/20 Batch 3/3 Cost: 5.676341\n",
            "Epoch   20/20 Batch 1/3 Cost: 1.280402\n",
            "Epoch   20/20 Batch 2/3 Cost: 12.910240\n",
            "Epoch   20/20 Batch 3/3 Cost: 3.446842\n",
            "훈련 후 입력이 73, 80, 75일 때의 예측값 : tensor([[153.7444]], grad_fn=<AddmmBackward0>)\n"
          ]
        }
      ],
      "source": [
        "import torch\n",
        "import torch.nn as nn\n",
        "import torch.nn.functional as F\n",
        "from torch.utils.data import TensorDataset # 텐서데이터셋\n",
        "from torch.utils.data import DataLoader # 데이터로더\n",
        "\n",
        "x_train  =  torch.FloatTensor([[73,  80,  75], \n",
        "                               [93,  88,  93], \n",
        "                               [89,  91,  90], \n",
        "                               [96,  98,  100],   \n",
        "                               [73,  66,  70]])  \n",
        "y_train  =  torch.FloatTensor([[152],  [185],  [180],  [196],  [142]])\n",
        "\n",
        "dataset = TensorDataset(x_train, y_train)\n",
        "dataloader = DataLoader(dataset, batch_size=2, shuffle=True)\n",
        "model = nn.Linear(3,1)\n",
        "optimizer = torch.optim.SGD(model.parameters(), lr=1e-5) \n",
        "\n",
        "nb_epochs = 20\n",
        "for epoch in range(nb_epochs + 1):\n",
        "  for batch_idx, samples in enumerate(dataloader):\n",
        "    # print(batch_idx)\n",
        "    # print(samples)\n",
        "    x_train, y_train = samples\n",
        "    # H(x) 계산\n",
        "    prediction = model(x_train)\n",
        "\n",
        "    # cost 계산\n",
        "    cost = F.mse_loss(prediction, y_train)\n",
        "\n",
        "    # cost로 H(x) 계산\n",
        "    optimizer.zero_grad()\n",
        "    cost.backward()\n",
        "    optimizer.step()\n",
        "\n",
        "    print('Epoch {:4d}/{} Batch {}/{} Cost: {:.6f}'.format(\n",
        "        epoch, nb_epochs, batch_idx+1, len(dataloader),\n",
        "        cost.item()\n",
        "        ))\n",
        "    \n",
        "# 임의의 입력 [73, 80, 75]를 선언\n",
        "new_var =  torch.FloatTensor([[73, 80, 75]]) \n",
        "# 입력한 값 [73, 80, 75]에 대해서 예측값 y를 리턴받아서 pred_y에 저장\n",
        "pred_y = model(new_var) \n",
        "print(\"훈련 후 입력이 73, 80, 75일 때의 예측값 :\", pred_y) "
      ]
    }
  ]
}
{
  "nbformat": 4,
  "nbformat_minor": 0,
  "metadata": {
    "colab": {
      "provenance": [],
      "authorship_tag": "ABX9TyMhasBMPsM2bfQnX9+Dy83Y",
      "include_colab_link": true
    },
    "kernelspec": {
      "name": "python3",
      "display_name": "Python 3"
    },
    "language_info": {
      "name": "python"
    }
  },
  "cells": [
    {
      "cell_type": "markdown",
      "metadata": {
        "id": "view-in-github",
        "colab_type": "text"
      },
      "source": [
        "<a href=\"https://colab.research.google.com/github/min-gyeong-00/pytorch/blob/main/Tensor_Manipulation_1.ipynb\" target=\"_parent\"><img src=\"https://colab.research.google.com/assets/colab-badge.svg\" alt=\"Open In Colab\"/></a>"
      ]
    },
    {
      "cell_type": "code",
      "execution_count": null,
      "metadata": {
        "colab": {
          "base_uri": "https://localhost:8080/"
        },
        "id": "OtNMqibcrlvw",
        "outputId": "de354a75-5207-47ff-d52a-9900f402b709"
      },
      "outputs": [
        {
          "output_type": "stream",
          "name": "stdout",
          "text": [
            "tensor([0., 1., 2., 3., 4., 5., 6.])\n",
            "1\n",
            "torch.Size([7])\n",
            "torch.Size([7])\n",
            "tensor(0.) tensor(6.)\n",
            "tensor([2., 3., 4.]) tensor([4., 5.])\n",
            "tensor([0., 1.]) tensor([3., 4., 5., 6.])\n",
            "tensor([[ 1.,  2.,  3.],\n",
            "        [ 4.,  5.,  6.],\n",
            "        [ 7.,  8.,  9.],\n",
            "        [10., 11., 12.]])\n",
            "2\n",
            "torch.Size([4, 3])\n",
            "torch.Size([4, 3])\n",
            "tensor([ 2.,  5.,  8., 11.])\n",
            "torch.Size([4])\n",
            "tensor([[ 1.,  2.],\n",
            "        [ 4.,  5.],\n",
            "        [ 7.,  8.],\n",
            "        [10., 11.]])\n"
          ]
        }
      ],
      "source": [
        "#2D Tensor (Typical Simple Setting) =(batch size,dim)\n",
        "#3D Tensor (Typical Computer Vision)=(batch size, width, height)\n",
        "#3D Tensor (Typical Natural Language Processing)=(batch size, length, dim)\n",
        "\n",
        "\n",
        "import numpy as np\n",
        "import torch\n",
        "\n",
        "#1D Array with PyTorch\n",
        "t=torch.FloatTensor([0.,1.,2.,3.,4.,5.,6.])\n",
        "print (t)\n",
        "print(t.dim())\n",
        "print(t.shape)\n",
        "print(t.size())\n",
        "print(t[0],t[-1])  \n",
        "print(t[2:5],t[4:-1])\n",
        "print(t[:2],t[3:])\n",
        "\n",
        "#2D Array with Pytorch\n",
        "t=torch.FloatTensor([[1,2,3],[4,5,6],[7,8,9],[10,11,12]])\n",
        "print(t)\n",
        "\n",
        "print(t.dim())\n",
        "print(t.shape)\n",
        "print(t.size())\n",
        "print(t[:,1])\n",
        "print(t[:,1].size())\n",
        "print(t[:,:-1])\n"
      ]
    },
    {
      "cell_type": "code",
      "source": [
        "#Broadcasting\n",
        "\n",
        "#Same shape\n",
        "m1=torch.FloatTensor([[3,3]])\n",
        "m2=torch.FloatTensor([[2,2]])\n",
        "print(m1+m2)\n",
        "\n",
        "#Vector+Scalar\n",
        "a1=torch.FloatTensor([[1,2]])\n",
        "a2=torch.FloatTensor([3]) #3 ->[[3,3]]\n",
        "print(a1+a2)\n",
        "\n",
        "# 2x1 Vector + 1x2 Vector >>둘다 2x2 행렬로 바꾸어서 계산함\n",
        "b1=torch.FloatTensor([[1,2]])\n",
        "b2=torch.FloatTensor([[3],[4]])\n",
        "\n",
        "\n",
        "\n",
        "#Multiplication vs Matrix Multiplication\n",
        "m1=torch.FloatTensor([[1,2],[3,4]]) # 2x2\n",
        "m2=torch.FloatTensor([[1],[2]]) # 2x1\n",
        "print(m1.matmul(m2))\n",
        "print(m1.mul(m2)) #broadcasting 으로 2x1 이 2x2 로 바뀌어서 계산됨\n",
        "\n",
        "#Mean\n",
        "t1=torch.FloatTensor([1,2])\n",
        "print(t1.mean())\n",
        "\n",
        "t2=torch.FloatTensor([[1,2],[3,4]])\n",
        "print(t2)\n",
        "print(t2.mean())\n",
        "print(t.mean(dim=0))\n",
        "print(t.mean(dim=1))\n",
        "print(t.mean(dim=-1))\n",
        "\n",
        "\n"
      ],
      "metadata": {
        "colab": {
          "base_uri": "https://localhost:8080/"
        },
        "id": "IZbs5oIY0fbM",
        "outputId": "f680b97c-8b1f-4184-9579-3f74c375d366"
      },
      "execution_count": null,
      "outputs": [
        {
          "output_type": "stream",
          "name": "stdout",
          "text": [
            "tensor([[5., 5.]])\n",
            "tensor([[4., 5.]])\n",
            "tensor([[ 5.],\n",
            "        [11.]])\n",
            "tensor([[1., 2.],\n",
            "        [6., 8.]])\n",
            "tensor(1.5000)\n",
            "tensor([[1., 2.],\n",
            "        [3., 4.]])\n",
            "tensor(2.5000)\n",
            "tensor([5.5000, 6.5000, 7.5000])\n",
            "tensor([ 2.,  5.,  8., 11.])\n",
            "tensor([ 2.,  5.,  8., 11.])\n"
          ]
        }
      ]
    },
    {
      "cell_type": "code",
      "source": [
        "#Sum\n",
        "t=torch.FloatTensor([[1,2],[3,4]])\n",
        "print(t)\n",
        "print(t.sum())\n",
        "print(t.sum(dim=0))\n",
        "print(t.sum(dim=1))\n",
        "print(t.sum(dim=-1))"
      ],
      "metadata": {
        "colab": {
          "base_uri": "https://localhost:8080/"
        },
        "id": "j_zeBDE14YUr",
        "outputId": "66635ccb-a562-41cd-e3f9-7926d09800d1"
      },
      "execution_count": null,
      "outputs": [
        {
          "output_type": "stream",
          "name": "stdout",
          "text": [
            "tensor([[1., 2.],\n",
            "        [3., 4.]])\n",
            "tensor(10.)\n",
            "tensor([4., 6.])\n",
            "tensor([3., 7.])\n",
            "tensor([3., 7.])\n"
          ]
        }
      ]
    },
    {
      "cell_type": "code",
      "source": [
        "#Max and Argmax\n",
        "t=torch.FloatTensor([[1,2],[3,4]])\n",
        "print(t)\n",
        "\n",
        "print(t.max())\n",
        "print(t.max(dim=0))\n",
        "print(t.max(dim=0)[0])\n",
        "print(t.max(dim=0)[1])\n",
        "print(t.max(dim=1))\n",
        "print(t.max(dim=-1))"
      ],
      "metadata": {
        "colab": {
          "base_uri": "https://localhost:8080/"
        },
        "id": "5EEUDqMR4o7L",
        "outputId": "360de792-2742-4228-db8b-0f1747583663"
      },
      "execution_count": null,
      "outputs": [
        {
          "output_type": "stream",
          "name": "stdout",
          "text": [
            "tensor([[1., 2.],\n",
            "        [3., 4.]])\n",
            "tensor(4.)\n",
            "torch.return_types.max(\n",
            "values=tensor([3., 4.]),\n",
            "indices=tensor([1, 1]))\n",
            "tensor([3., 4.])\n",
            "tensor([1, 1])\n",
            "torch.return_types.max(\n",
            "values=tensor([2., 4.]),\n",
            "indices=tensor([1, 1]))\n",
            "torch.return_types.max(\n",
            "values=tensor([2., 4.]),\n",
            "indices=tensor([1, 1]))\n"
          ]
        }
      ]
    }
  ]
}
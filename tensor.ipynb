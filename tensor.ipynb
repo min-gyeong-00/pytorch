{
  "nbformat": 4,
  "nbformat_minor": 0,
  "metadata": {
    "colab": {
      "provenance": [],
      "authorship_tag": "ABX9TyOXTRfBg0/EGUgGio73kn/5",
      "include_colab_link": true
    },
    "kernelspec": {
      "name": "python3",
      "display_name": "Python 3"
    },
    "language_info": {
      "name": "python"
    }
  },
  "cells": [
    {
      "cell_type": "markdown",
      "metadata": {
        "id": "view-in-github",
        "colab_type": "text"
      },
      "source": [
        "<a href=\"https://colab.research.google.com/github/min-gyeong-00/study/blob/main/tensor.ipynb\" target=\"_parent\"><img src=\"https://colab.research.google.com/assets/colab-badge.svg\" alt=\"Open In Colab\"/></a>"
      ]
    },
    {
      "cell_type": "code",
      "execution_count": 23,
      "metadata": {
        "colab": {
          "base_uri": "https://localhost:8080/"
        },
        "id": "7DuAYkIN1RRA",
        "outputId": "f02dffd8-9ad1-4bed-ee49-7ee1b4d34944"
      },
      "outputs": [
        {
          "output_type": "stream",
          "name": "stdout",
          "text": [
            "Cloning into 'study'...\n",
            "warning: You appear to have cloned an empty repository.\n"
          ]
        }
      ],
      "source": [
        "#pytorch 패키지 구성\n",
        "#torch:수학 함수\n",
        "#torch.autograd:자동 미분 함수\n",
        "#torch.nn:신경망 구축\n",
        "#torch.optim:최적화 알고리즘 구현\n",
        "#touch.utils.data:미니 배치용 유틸리티 함수 \n",
        "#torch.onnx:서로 다른 딥러닝 프레임워크 간 모델 공유\n"
      ]
    },
    {
      "cell_type": "code",
      "source": [
        "#텐서 생성\n",
        "import numpy as np\n",
        "import torch\n",
        "\n",
        "#중첩 list 지정\n",
        "t=torch.tensor([[1,2],[3,4.]])\n",
        "\n",
        "#device 지정 시 GPU 에 텐서 생성 가능\n",
        "t=torch.tensor([[1,2],[3,4.]],device=\"cuda:0\")\n",
        "\n",
        "#데이터형 지정 시\n",
        "t=torch.tensor([[1,2],[3,4.]],dtype=torch.float64)\n",
        "\n",
        "#0부터 9까지로 초기화된 1차원 텐서\n",
        "t=torch.arrange(0,10)\n",
        "\n",
        "#모든값이 0 인 100*10 텐서를 to 메서드로 GPU 에 전송\n",
        "t=torch.zeros(100,10).to(\"cudo:0\")\n",
        "\n",
        "#정규난수로 100*10 텐서 작성\n",
        "t=torch.randn(100,10)\n",
        "\n",
        "#텐서의 shape 은 size 메서드로 확인 가능\n",
        "t.size()\n",
        "\n"
      ],
      "metadata": {
        "colab": {
          "base_uri": "https://localhost:8080/",
          "height": 381
        },
        "id": "hiRE92P71m6N",
        "outputId": "2bd79c7a-082e-44eb-a574-6630bfd75e85"
      },
      "execution_count": 25,
      "outputs": [
        {
          "output_type": "error",
          "ename": "RuntimeError",
          "evalue": "ignored",
          "traceback": [
            "\u001b[0;31m---------------------------------------------------------------------------\u001b[0m",
            "\u001b[0;31mRuntimeError\u001b[0m                              Traceback (most recent call last)",
            "\u001b[0;32m<ipython-input-25-e81ceeddc5ad>\u001b[0m in \u001b[0;36m<module>\u001b[0;34m\u001b[0m\n\u001b[1;32m      7\u001b[0m \u001b[0;34m\u001b[0m\u001b[0m\n\u001b[1;32m      8\u001b[0m \u001b[0;31m#device 지정 시 GPU 에 텐서 생성 가능\u001b[0m\u001b[0;34m\u001b[0m\u001b[0;34m\u001b[0m\u001b[0;34m\u001b[0m\u001b[0m\n\u001b[0;32m----> 9\u001b[0;31m \u001b[0mt\u001b[0m\u001b[0;34m=\u001b[0m\u001b[0mtorch\u001b[0m\u001b[0;34m.\u001b[0m\u001b[0mtensor\u001b[0m\u001b[0;34m(\u001b[0m\u001b[0;34m[\u001b[0m\u001b[0;34m[\u001b[0m\u001b[0;36m1\u001b[0m\u001b[0;34m,\u001b[0m\u001b[0;36m2\u001b[0m\u001b[0;34m]\u001b[0m\u001b[0;34m,\u001b[0m\u001b[0;34m[\u001b[0m\u001b[0;36m3\u001b[0m\u001b[0;34m,\u001b[0m\u001b[0;36m4.\u001b[0m\u001b[0;34m]\u001b[0m\u001b[0;34m]\u001b[0m\u001b[0;34m,\u001b[0m\u001b[0mdevice\u001b[0m\u001b[0;34m=\u001b[0m\u001b[0;34m\"cuda:0\"\u001b[0m\u001b[0;34m)\u001b[0m\u001b[0;34m\u001b[0m\u001b[0;34m\u001b[0m\u001b[0m\n\u001b[0m\u001b[1;32m     10\u001b[0m \u001b[0;34m\u001b[0m\u001b[0m\n\u001b[1;32m     11\u001b[0m \u001b[0;31m#데이터형 지정 시\u001b[0m\u001b[0;34m\u001b[0m\u001b[0;34m\u001b[0m\u001b[0;34m\u001b[0m\u001b[0m\n",
            "\u001b[0;32m/usr/local/lib/python3.7/dist-packages/torch/cuda/__init__.py\u001b[0m in \u001b[0;36m_lazy_init\u001b[0;34m()\u001b[0m\n\u001b[1;32m    215\u001b[0m         \u001b[0;31m# This function throws if there's a driver initialization error, no GPUs\u001b[0m\u001b[0;34m\u001b[0m\u001b[0;34m\u001b[0m\u001b[0;34m\u001b[0m\u001b[0m\n\u001b[1;32m    216\u001b[0m         \u001b[0;31m# are found or any other error occurs\u001b[0m\u001b[0;34m\u001b[0m\u001b[0;34m\u001b[0m\u001b[0;34m\u001b[0m\u001b[0m\n\u001b[0;32m--> 217\u001b[0;31m         \u001b[0mtorch\u001b[0m\u001b[0;34m.\u001b[0m\u001b[0m_C\u001b[0m\u001b[0;34m.\u001b[0m\u001b[0m_cuda_init\u001b[0m\u001b[0;34m(\u001b[0m\u001b[0;34m)\u001b[0m\u001b[0;34m\u001b[0m\u001b[0;34m\u001b[0m\u001b[0m\n\u001b[0m\u001b[1;32m    218\u001b[0m         \u001b[0;31m# Some of the queued calls may reentrantly call _lazy_init();\u001b[0m\u001b[0;34m\u001b[0m\u001b[0;34m\u001b[0m\u001b[0;34m\u001b[0m\u001b[0m\n\u001b[1;32m    219\u001b[0m         \u001b[0;31m# we need to just return without initializing in that case.\u001b[0m\u001b[0;34m\u001b[0m\u001b[0;34m\u001b[0m\u001b[0;34m\u001b[0m\u001b[0m\n",
            "\u001b[0;31mRuntimeError\u001b[0m: No CUDA GPUs are available"
          ]
        }
      ]
    },
    {
      "cell_type": "code",
      "source": [
        "import torch\n",
        "import numpy \n",
        "#텐서 변환의 예 \n",
        "\n",
        "#numpy 메서드를 사용해 ndarray 로 변환\n",
        "t=torch.tensor([[1,2],[3,4.]])\n",
        "x=t.numpy\n",
        "\n",
        "#GPU 상의 텐서는 to 메서드로 CPU 로 이동\n",
        "t=torch.tensor([[1,2],[3,4.]],device=\"cuda:0\")\n",
        "x=t.to(\"cpu\").numpy()\n",
        "\n"
      ],
      "metadata": {
        "id": "DO0XELPn8CRr"
      },
      "execution_count": null,
      "outputs": []
    },
    {
      "cell_type": "code",
      "source": [
        "import torch\n",
        "##텐서의 인덱스 조작\n",
        "t=torch.tensor([[1,2,3],[4,5,6.]])\n",
        "\n",
        "t[0,2]\n",
        "t[:,:2]\n"
      ],
      "metadata": {
        "id": "vijxEEzN9ysO"
      },
      "execution_count": null,
      "outputs": []
    },
    {
      "cell_type": "code",
      "source": [],
      "metadata": {
        "id": "KzN1GkVv1si1"
      },
      "execution_count": null,
      "outputs": []
    }
  ]
}
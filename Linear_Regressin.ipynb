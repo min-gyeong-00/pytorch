{
  "nbformat": 4,
  "nbformat_minor": 0,
  "metadata": {
    "colab": {
      "provenance": [],
      "authorship_tag": "ABX9TyMhiZH+igsLZj0d4TMt5rIU",
      "include_colab_link": true
    },
    "kernelspec": {
      "name": "python3",
      "display_name": "Python 3"
    },
    "language_info": {
      "name": "python"
    }
  },
  "cells": [
    {
      "cell_type": "markdown",
      "metadata": {
        "id": "view-in-github",
        "colab_type": "text"
      },
      "source": [
        "<a href=\"https://colab.research.google.com/github/min-gyeong-00/pytorch/blob/main/Linear_Regressin.ipynb\" target=\"_parent\"><img src=\"https://colab.research.google.com/assets/colab-badge.svg\" alt=\"Open In Colab\"/></a>"
      ]
    },
    {
      "cell_type": "code",
      "execution_count": 4,
      "metadata": {
        "colab": {
          "base_uri": "https://localhost:8080/"
        },
        "id": "RFQgSvZMSHcq",
        "outputId": "fc107aa6-2a29-4487-999b-a13f089cd5d5"
      },
      "outputs": [
        {
          "output_type": "stream",
          "name": "stdout",
          "text": [
            "0 1999 tensor([0.1867], requires_grad=True) tensor([0.0800], requires_grad=True) tensor(18.6667, grad_fn=<MeanBackward0>)\n",
            "100 1999 tensor([1.7457], requires_grad=True) tensor([0.5781], requires_grad=True) tensor(0.0482, grad_fn=<MeanBackward0>)\n",
            "200 1999 tensor([1.8001], requires_grad=True) tensor([0.4544], requires_grad=True) tensor(0.0298, grad_fn=<MeanBackward0>)\n",
            "300 1999 tensor([1.8429], requires_grad=True) tensor([0.3572], requires_grad=True) tensor(0.0184, grad_fn=<MeanBackward0>)\n",
            "400 1999 tensor([1.8765], requires_grad=True) tensor([0.2808], requires_grad=True) tensor(0.0114, grad_fn=<MeanBackward0>)\n",
            "500 1999 tensor([1.9029], requires_grad=True) tensor([0.2207], requires_grad=True) tensor(0.0070, grad_fn=<MeanBackward0>)\n",
            "600 1999 tensor([1.9237], requires_grad=True) tensor([0.1735], requires_grad=True) tensor(0.0043, grad_fn=<MeanBackward0>)\n",
            "700 1999 tensor([1.9400], requires_grad=True) tensor([0.1364], requires_grad=True) tensor(0.0027, grad_fn=<MeanBackward0>)\n",
            "800 1999 tensor([1.9528], requires_grad=True) tensor([0.1072], requires_grad=True) tensor(0.0017, grad_fn=<MeanBackward0>)\n",
            "900 1999 tensor([1.9629], requires_grad=True) tensor([0.0843], requires_grad=True) tensor(0.0010, grad_fn=<MeanBackward0>)\n",
            "1000 1999 tensor([1.9709], requires_grad=True) tensor([0.0663], requires_grad=True) tensor(0.0006, grad_fn=<MeanBackward0>)\n",
            "1100 1999 tensor([1.9771], requires_grad=True) tensor([0.0521], requires_grad=True) tensor(0.0004, grad_fn=<MeanBackward0>)\n",
            "1200 1999 tensor([1.9820], requires_grad=True) tensor([0.0409], requires_grad=True) tensor(0.0002, grad_fn=<MeanBackward0>)\n",
            "1300 1999 tensor([1.9858], requires_grad=True) tensor([0.0322], requires_grad=True) tensor(0.0001, grad_fn=<MeanBackward0>)\n",
            "1400 1999 tensor([1.9889], requires_grad=True) tensor([0.0253], requires_grad=True) tensor(9.2272e-05, grad_fn=<MeanBackward0>)\n",
            "1500 1999 tensor([1.9913], requires_grad=True) tensor([0.0199], requires_grad=True) tensor(5.7021e-05, grad_fn=<MeanBackward0>)\n",
            "1600 1999 tensor([1.9931], requires_grad=True) tensor([0.0156], requires_grad=True) tensor(3.5235e-05, grad_fn=<MeanBackward0>)\n",
            "1700 1999 tensor([1.9946], requires_grad=True) tensor([0.0123], requires_grad=True) tensor(2.1774e-05, grad_fn=<MeanBackward0>)\n",
            "1800 1999 tensor([1.9958], requires_grad=True) tensor([0.0097], requires_grad=True) tensor(1.3454e-05, grad_fn=<MeanBackward0>)\n",
            "1900 1999 tensor([1.9967], requires_grad=True) tensor([0.0076], requires_grad=True) tensor(8.3145e-06, grad_fn=<MeanBackward0>)\n"
          ]
        }
      ],
      "source": [
        "import torch\n",
        "import torch.optim as optim\n",
        "\n",
        "#데이터\n",
        "x_train=torch.FloatTensor([[1],[2],[3]])\n",
        "y_train=torch.FloatTensor([[2],[4],[6]])\n",
        "\n",
        "#모델 초기화\n",
        "w=torch.zeros(1,requires_grad=True)\n",
        "b=torch.zeros(1,requires_grad=True)\n",
        "\n",
        "#optimizer 설정_경사하강법 구현\n",
        "optimizer=optim.SGD([w,b],lr=0.01)\n",
        "\n",
        "\n",
        "nb_epochs=1999 #원하는만큼 경사하강법 구현\n",
        "\n",
        "for epoch in range(nb_epochs+1):\n",
        "  h=x_train*w+b\n",
        "  cost=torch.mean((h-y_train)**2)\n",
        "\n",
        "  optimizer.zero_grad() #gradient 0으로 초기화\n",
        "  cost.backward()\n",
        "  optimizer.step()\n",
        "\n",
        "  #100번마다 로그 출력\n",
        "  if epoch %100 ==0:\n",
        "    print(epoch,nb_epochs,w,b,cost)\n",
        "\n",
        "\n",
        "\n",
        "\n"
      ]
    }
  ]
}
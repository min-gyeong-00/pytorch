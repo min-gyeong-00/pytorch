{
  "nbformat": 4,
  "nbformat_minor": 0,
  "metadata": {
    "colab": {
      "provenance": [],
      "toc_visible": true,
      "authorship_tag": "ABX9TyO5B6BFmlKwwqq6cw7r0xOn",
      "include_colab_link": true
    },
    "kernelspec": {
      "name": "python3",
      "display_name": "Python 3"
    },
    "language_info": {
      "name": "python"
    }
  },
  "cells": [
    {
      "cell_type": "markdown",
      "metadata": {
        "id": "view-in-github",
        "colab_type": "text"
      },
      "source": [
        "<a href=\"https://colab.research.google.com/github/min-gyeong-00/pytorch/blob/main/%ED%85%90%EC%84%9C.ipynb\" target=\"_parent\"><img src=\"https://colab.research.google.com/assets/colab-badge.svg\" alt=\"Open In Colab\"/></a>"
      ]
    },
    {
      "cell_type": "code",
      "execution_count": null,
      "metadata": {
        "colab": {
          "base_uri": "https://localhost:8080/"
        },
        "id": "7DuAYkIN1RRA",
        "outputId": "f02dffd8-9ad1-4bed-ee49-7ee1b4d34944"
      },
      "outputs": [
        {
          "output_type": "stream",
          "name": "stdout",
          "text": [
            "Cloning into 'study'...\n",
            "warning: You appear to have cloned an empty repository.\n"
          ]
        }
      ],
      "source": [
        "#pytorch 패키지 구성\n",
        "#torch:수학 함수\n",
        "#torch.autograd:자동 미분 함수\n",
        "#torch.nn:신경망 구축\n",
        "#torch.optim:최적화 알고리즘 구현\n",
        "#touch.utils.data:미니 배치용 유틸리티 함수 \n",
        "#torch.onnx:서로 다른 딥러닝 프레임워크 간 모델 공유\n"
      ]
    },
    {
      "cell_type": "code",
      "source": [
        "#텐서 생성\n",
        "import numpy as np\n",
        "import torch\n",
        "\n",
        "#중첩 list 지정\n",
        "t=torch.tensor([[1,2],[3,4.]])\n",
        "\n",
        "#device 지정 시 GPU 에 텐서 생성 가능\n",
        "t=torch.tensor([[1,2],[3,4.]],device=\"cuda:0\")\n",
        "\n",
        "#데이터형 지정 시\n",
        "t=torch.tensor([[1,2],[3,4.]],dtype=torch.float64)\n",
        "\n",
        "#0부터 9까지로 초기화된 1차원 텐서\n",
        "t=torch.arrange(0,10)\n",
        "\n",
        "#모든값이 0 인 100*10 텐서를 to 메서드로 GPU 에 전송\n",
        "t=torch.zeros(100,10).to(\"cudo:0\")\n",
        "\n",
        "#정규난수로 100*10 텐서 작성\n",
        "t=torch.randn(100,10)\n",
        "\n",
        "#텐서의 shape 은 size 메서드로 확인 가능\n",
        "t.size()\n",
        "\n"
      ],
      "metadata": {
        "colab": {
          "base_uri": "https://localhost:8080/",
          "height": 381
        },
        "id": "hiRE92P71m6N",
        "outputId": "2bd79c7a-082e-44eb-a574-6630bfd75e85"
      },
      "execution_count": null,
      "outputs": [
        {
          "output_type": "error",
          "ename": "RuntimeError",
          "evalue": "ignored",
          "traceback": [
            "\u001b[0;31m---------------------------------------------------------------------------\u001b[0m",
            "\u001b[0;31mRuntimeError\u001b[0m                              Traceback (most recent call last)",
            "\u001b[0;32m<ipython-input-25-e81ceeddc5ad>\u001b[0m in \u001b[0;36m<module>\u001b[0;34m\u001b[0m\n\u001b[1;32m      7\u001b[0m \u001b[0;34m\u001b[0m\u001b[0m\n\u001b[1;32m      8\u001b[0m \u001b[0;31m#device 지정 시 GPU 에 텐서 생성 가능\u001b[0m\u001b[0;34m\u001b[0m\u001b[0;34m\u001b[0m\u001b[0;34m\u001b[0m\u001b[0m\n\u001b[0;32m----> 9\u001b[0;31m \u001b[0mt\u001b[0m\u001b[0;34m=\u001b[0m\u001b[0mtorch\u001b[0m\u001b[0;34m.\u001b[0m\u001b[0mtensor\u001b[0m\u001b[0;34m(\u001b[0m\u001b[0;34m[\u001b[0m\u001b[0;34m[\u001b[0m\u001b[0;36m1\u001b[0m\u001b[0;34m,\u001b[0m\u001b[0;36m2\u001b[0m\u001b[0;34m]\u001b[0m\u001b[0;34m,\u001b[0m\u001b[0;34m[\u001b[0m\u001b[0;36m3\u001b[0m\u001b[0;34m,\u001b[0m\u001b[0;36m4.\u001b[0m\u001b[0;34m]\u001b[0m\u001b[0;34m]\u001b[0m\u001b[0;34m,\u001b[0m\u001b[0mdevice\u001b[0m\u001b[0;34m=\u001b[0m\u001b[0;34m\"cuda:0\"\u001b[0m\u001b[0;34m)\u001b[0m\u001b[0;34m\u001b[0m\u001b[0;34m\u001b[0m\u001b[0m\n\u001b[0m\u001b[1;32m     10\u001b[0m \u001b[0;34m\u001b[0m\u001b[0m\n\u001b[1;32m     11\u001b[0m \u001b[0;31m#데이터형 지정 시\u001b[0m\u001b[0;34m\u001b[0m\u001b[0;34m\u001b[0m\u001b[0;34m\u001b[0m\u001b[0m\n",
            "\u001b[0;32m/usr/local/lib/python3.7/dist-packages/torch/cuda/__init__.py\u001b[0m in \u001b[0;36m_lazy_init\u001b[0;34m()\u001b[0m\n\u001b[1;32m    215\u001b[0m         \u001b[0;31m# This function throws if there's a driver initialization error, no GPUs\u001b[0m\u001b[0;34m\u001b[0m\u001b[0;34m\u001b[0m\u001b[0;34m\u001b[0m\u001b[0m\n\u001b[1;32m    216\u001b[0m         \u001b[0;31m# are found or any other error occurs\u001b[0m\u001b[0;34m\u001b[0m\u001b[0;34m\u001b[0m\u001b[0;34m\u001b[0m\u001b[0m\n\u001b[0;32m--> 217\u001b[0;31m         \u001b[0mtorch\u001b[0m\u001b[0;34m.\u001b[0m\u001b[0m_C\u001b[0m\u001b[0;34m.\u001b[0m\u001b[0m_cuda_init\u001b[0m\u001b[0;34m(\u001b[0m\u001b[0;34m)\u001b[0m\u001b[0;34m\u001b[0m\u001b[0;34m\u001b[0m\u001b[0m\n\u001b[0m\u001b[1;32m    218\u001b[0m         \u001b[0;31m# Some of the queued calls may reentrantly call _lazy_init();\u001b[0m\u001b[0;34m\u001b[0m\u001b[0;34m\u001b[0m\u001b[0;34m\u001b[0m\u001b[0m\n\u001b[1;32m    219\u001b[0m         \u001b[0;31m# we need to just return without initializing in that case.\u001b[0m\u001b[0;34m\u001b[0m\u001b[0;34m\u001b[0m\u001b[0;34m\u001b[0m\u001b[0m\n",
            "\u001b[0;31mRuntimeError\u001b[0m: No CUDA GPUs are available"
          ]
        }
      ]
    },
    {
      "cell_type": "code",
      "source": [
        "import torch\n",
        "import numpy \n",
        "#텐서 변환의 예 \n",
        "\n",
        "#numpy 메서드를 사용해 ndarray 로 변환\n",
        "t=torch.tensor([[1,2],[3,4.]])\n",
        "x=t.numpy\n",
        "\n",
        "#GPU 상의 텐서는 to 메서드로 CPU 로 이동\n",
        "t=torch.tensor([[1,2],[3,4.]],device=\"cuda:0\")\n",
        "x=t.to(\"cpu\").numpy()\n",
        "\n"
      ],
      "metadata": {
        "id": "DO0XELPn8CRr"
      },
      "execution_count": null,
      "outputs": []
    },
    {
      "cell_type": "code",
      "source": [
        "import torch\n",
        "##텐서의 인덱스 조작\n",
        "t=torch.tensor([[1,2,3],[4,5,6.]])\n",
        "\n",
        "t[0,2]\n",
        "t[:,:2]\n",
        "t[:,[1,2]]\n",
        "t[t>3]\n",
        "t[0,1]=100\n",
        "t[:,1]=200\n",
        "t[t>10]=20"
      ],
      "metadata": {
        "id": "vijxEEzN9ysO"
      },
      "execution_count": null,
      "outputs": []
    },
    {
      "cell_type": "code",
      "source": [
        "import torch\n",
        "\n",
        "#텐서 연산(GPU 를 사용할 수 있어 대규모데이터 처리시 이점)-텐서와 ndarray 간은 불가, 동일형이어야 함\n",
        "\n",
        "v=torch.tensor([1,2,3.])\n",
        "w=torch.tensor([0,10,20.])\n",
        "m=torch.tensor([[0,1,2],[100,200,300.]])\n",
        "\n",
        "v2=v+10 #벡터와 스칼라\n",
        "\n",
        "v2=v**2\n",
        "\n",
        "z=v-w #동일 길이의 벡터간 계산\n",
        "\n",
        "u=2*v-w/10+6.0\n",
        "\n",
        "m2=m*2.0 #행렬과 스칼라\n",
        "\n",
        "m3=m+v #형태가 달라 브로드캐스트 적용\n",
        "\n",
        "m4=m+m #행렬 간 처리\n",
        "\n",
        "\n"
      ],
      "metadata": {
        "id": "CW8qazx4_dSO"
      },
      "execution_count": null,
      "outputs": []
    },
    {
      "cell_type": "code",
      "source": [
        "import torch\n",
        "\n",
        "#수학함수\n",
        "\n",
        "x=torch.randn(100,10)\n",
        "y=x*2+torch.abs(x)\n",
        "m=torch.mean(x)\n",
        "m=x.mean\n",
        "m_value=m.item() \n",
        "m2=x.mean(0) #행 방향으로 집계해서 열 단위로 평균값 계산\n",
        "\n",
        "\n",
        "#텐서의 인덱스 조작 예\n",
        "x1=torch.tensor([[1,2],[3,4.]])\n",
        "x2=torch.tensor([[10,20,30],[40,50,60.]])\n",
        "\n",
        "x1.view(4,1) #2x2 를 4x1 로 보여줌\n",
        "\n",
        "x1.view(1,-1) #-1 사용시 자동으로 4로 ㅂㄴ환됨\n",
        "\n",
        "x2.t() #전치행렬 출력\n",
        "\n",
        "torch.cat([x1,x2],dim=1) #dim=1 로 결합시 2x5 텐서 생성\n",
        "\n",
        "#HWC(높이,너비,색) 순에서 CHW 순으로 변경\n",
        "hwc_img_data=torch.rand(100,64,32,3) #(64x32x3 데이터가 100개)\n",
        "chw_img_data=hwc_img_data.transpose(1,2).transpose(1,3)\n",
        "\n",
        "\n",
        "#선형대수 연산-dot(벡터 내적),mv(행렬과 벡터의 곱),mm(행렬과 행렬의 곱),matmul(인수 종류에 따라 앞의 3개 자동 결정 후 실행)\n",
        "#gesv(LU 분해를 사용한 연립방적식의 해),eig.symeig(고윳값 분해),svd(특이값 분해)\n",
        "\n",
        "m=torch.randn(100,10)\n",
        "v=torch.randn(10)\n",
        "\n",
        "d=torch.dot(v,v)\n",
        "v2=torch.mv(m,v) #결과는 길이가 100인 벡터\n",
        "m2=torch.mm(m.t(),m)\n",
        "u,s,v=torch.svd(m)\n",
        "\n",
        "\n",
        "\n"
      ],
      "metadata": {
        "id": "KzN1GkVv1si1"
      },
      "execution_count": null,
      "outputs": []
    }
  ]
}
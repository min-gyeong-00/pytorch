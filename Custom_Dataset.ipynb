{
  "nbformat": 4,
  "nbformat_minor": 0,
  "metadata": {
    "colab": {
      "provenance": [],
      "authorship_tag": "ABX9TyOCYO3TzJlnzF0m6PL0JKTQ",
      "include_colab_link": true
    },
    "kernelspec": {
      "name": "python3",
      "display_name": "Python 3"
    },
    "language_info": {
      "name": "python"
    }
  },
  "cells": [
    {
      "cell_type": "markdown",
      "metadata": {
        "id": "view-in-github",
        "colab_type": "text"
      },
      "source": [
        "<a href=\"https://colab.research.google.com/github/min-gyeong-00/pytorch/blob/main/Custom_Dataset.ipynb\" target=\"_parent\"><img src=\"https://colab.research.google.com/assets/colab-badge.svg\" alt=\"Open In Colab\"/></a>"
      ]
    },
    {
      "cell_type": "code",
      "execution_count": 2,
      "metadata": {
        "colab": {
          "base_uri": "https://localhost:8080/"
        },
        "id": "TJiJtXDzJo7m",
        "outputId": "fef6c1a1-2c23-4b11-9dea-1cde4170e1d3"
      },
      "outputs": [
        {
          "output_type": "stream",
          "name": "stdout",
          "text": [
            "3\n",
            "10\n",
            "3\n",
            "7\n"
          ]
        }
      ],
      "source": [
        "class Calculator:\n",
        "  def __init__(self):\n",
        "    self.result=0\n",
        "\n",
        "  def add(self,num):\n",
        "    self.result+=num\n",
        "    return self.result\n",
        "\n",
        "cal1=Calculator()\n",
        "cal2=Calculator()\n",
        "\n",
        "print(cal1.add(3))\n",
        "print(cal1.add(7))\n",
        "print(cal2.add(3)) \n",
        "print(cal2.add(4))\n",
        "\n"
      ]
    },
    {
      "cell_type": "code",
      "source": [
        "import torch\n",
        "import torch.nn.functional as F\n",
        "from torch.utils.data import Dataset\n",
        "from torch.utils.data import DataLoader\n",
        "\n",
        "class CustomDataset(torch.utils.data.Dataset):\n",
        "  def __init__(self):\n",
        "     self.x_data = [[73, 80, 75],\n",
        "                   [93, 88, 93],\n",
        "                   [89, 91, 90],\n",
        "                   [96, 98, 100],\n",
        "                   [73, 66, 70]]\n",
        "     self.y_data = [[152], [185], [180], [196], [142]]\n",
        "\n",
        "  def __len__(self):\n",
        "    return len(self.x_data)\n",
        "\n",
        "  def __getitem__(self,idx):\n",
        "    x = torch.FloatTensor(self.x_data[idx])\n",
        "    y = torch.FloatTensor(self.y_data[idx])\n",
        "    return x,y\n",
        "\n",
        "dataset=CustomDataset()\n",
        "dataloader=DataLoader(dataset,batch_size=2,shuffle=True)\n",
        "\n",
        "model=torch.nn.Linear(3,1)\n",
        "optimizer=torch.optim.SGD(model.parameters(),lr=1e-5)\n",
        "\n",
        "nb_epochs=20\n",
        "for epoch in range(nb_epochs+1):\n",
        "  for batch_idx,samples in enumerate(dataloader):\n",
        "    x_train,y_train=samples\n",
        "    prediction=model(x_train)\n",
        "    cost=F.mse_loss(prediction,y_train)\n",
        "    optimizer.zero_grad()\n",
        "    cost.backward()\n",
        "    optimizer.step()\n",
        "\n",
        "    print(epoch,nb_epochs,batch_idx+1,len(dataloader),cost.item())\n",
        "\n"
      ],
      "metadata": {
        "colab": {
          "base_uri": "https://localhost:8080/"
        },
        "id": "4HOuKQc2Kbye",
        "outputId": "753c5652-6569-466b-f125-069a4d3fe07d"
      },
      "execution_count": 5,
      "outputs": [
        {
          "output_type": "stream",
          "name": "stdout",
          "text": [
            "0 20 1 3 11951.6318359375\n",
            "0 20 2 3 4822.62109375\n",
            "0 20 3 3 682.0245971679688\n",
            "1 20 1 3 389.539306640625\n",
            "1 20 2 3 216.24563598632812\n",
            "1 20 3 3 16.344980239868164\n",
            "2 20 1 3 12.704936981201172\n",
            "2 20 2 3 14.510665893554688\n",
            "2 20 3 3 0.028326384723186493\n",
            "3 20 1 3 5.656203269958496\n",
            "3 20 2 3 1.1279702186584473\n",
            "3 20 3 3 0.016078375279903412\n",
            "4 20 1 3 1.9943398237228394\n",
            "4 20 2 3 1.571981430053711\n",
            "4 20 3 3 0.13949431478977203\n",
            "5 20 1 3 2.675471305847168\n",
            "5 20 2 3 1.4323829412460327\n",
            "5 20 3 3 1.1785975694656372\n",
            "6 20 1 3 1.8902182579040527\n",
            "6 20 2 3 1.5677473545074463\n",
            "6 20 3 3 1.5134150981903076\n",
            "7 20 1 3 1.815159559249878\n",
            "7 20 2 3 1.8417298793792725\n",
            "7 20 3 3 0.11186175048351288\n",
            "8 20 1 3 1.418277621269226\n",
            "8 20 2 3 1.6799602508544922\n",
            "8 20 3 3 1.12501859664917\n",
            "9 20 1 3 1.9171675443649292\n",
            "9 20 2 3 1.175575852394104\n",
            "9 20 3 3 1.1700983047485352\n",
            "10 20 1 3 1.4260547161102295\n",
            "10 20 2 3 1.6796879768371582\n",
            "10 20 3 3 1.093584418296814\n",
            "11 20 1 3 0.2330685555934906\n",
            "11 20 2 3 1.8447774648666382\n",
            "11 20 3 3 3.0778465270996094\n",
            "12 20 1 3 0.9960216283798218\n",
            "12 20 2 3 1.73970627784729\n",
            "12 20 3 3 1.5824761390686035\n",
            "13 20 1 3 1.2581208944320679\n",
            "13 20 2 3 1.4845612049102783\n",
            "13 20 3 3 1.713695764541626\n",
            "14 20 1 3 3.371551990509033\n",
            "14 20 2 3 1.3854707479476929\n",
            "14 20 3 3 0.6426687836647034\n",
            "15 20 1 3 0.15651866793632507\n",
            "15 20 2 3 1.9181139469146729\n",
            "15 20 3 3 3.2808985710144043\n",
            "16 20 1 3 1.8740043640136719\n",
            "16 20 2 3 1.3972187042236328\n",
            "16 20 3 3 0.5716925263404846\n",
            "17 20 1 3 1.1781630516052246\n",
            "17 20 2 3 1.5784932374954224\n",
            "17 20 3 3 2.852653741836548\n",
            "18 20 1 3 1.4621586799621582\n",
            "18 20 2 3 0.908910870552063\n",
            "18 20 3 3 2.2323193550109863\n",
            "19 20 1 3 0.22897417843341827\n",
            "19 20 2 3 2.0678751468658447\n",
            "19 20 3 3 2.405111789703369\n",
            "20 20 1 3 1.2297669649124146\n",
            "20 20 2 3 1.6867609024047852\n",
            "20 20 3 3 1.9242587089538574\n"
          ]
        }
      ]
    },
    {
      "cell_type": "code",
      "source": [
        "new_var=torch.FloatTensor([[73,80,75]])\n",
        "pred_y=model(new_var)\n",
        "print(pred_y)"
      ],
      "metadata": {
        "colab": {
          "base_uri": "https://localhost:8080/"
        },
        "id": "YUX9mBkaM7er",
        "outputId": "fc69fb32-1f34-46ad-b5cc-ca5a3a8dccd4"
      },
      "execution_count": 6,
      "outputs": [
        {
          "output_type": "stream",
          "name": "stdout",
          "text": [
            "tensor([[153.4471]], grad_fn=<AddmmBackward0>)\n"
          ]
        }
      ]
    }
  ]
}
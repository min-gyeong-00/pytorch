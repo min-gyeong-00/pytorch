{
  "nbformat": 4,
  "nbformat_minor": 0,
  "metadata": {
    "colab": {
      "provenance": [],
      "authorship_tag": "ABX9TyOF22GqBkfB+RsHBSX0/t5y",
      "include_colab_link": true
    },
    "kernelspec": {
      "name": "python3",
      "display_name": "Python 3"
    },
    "language_info": {
      "name": "python"
    }
  },
  "cells": [
    {
      "cell_type": "markdown",
      "metadata": {
        "id": "view-in-github",
        "colab_type": "text"
      },
      "source": [
        "<a href=\"https://colab.research.google.com/github/min-gyeong-00/pytorch/blob/main/regression.ipynb\" target=\"_parent\"><img src=\"https://colab.research.google.com/assets/colab-badge.svg\" alt=\"Open In Colab\"/></a>"
      ]
    },
    {
      "cell_type": "code",
      "execution_count": null,
      "metadata": {
        "id": "tK9oFpiAIZfY"
      },
      "outputs": [],
      "source": [
        "import torch\n",
        "\n",
        "w_true=torch.Tensor([1,2,3])\n",
        "x=torch.cat([torch.ones(100,1),torch.randn(100,2)],1) #절편 추가를 위해 최초 차원에 1 추가\n",
        "y=torch.mv(x,w_true)+torch.randn(100*0.5) \n",
        "w=torch.randn(3,requires_grad=True) #기울기 하강으로 최적화하기 위해 파라미터 Tensor 를 난수로 초기화해서 생성\n",
        "gamma=0.1 #학습률\n",
        "\n",
        "losses=[]\n",
        "for epoc in range(100):\n",
        "  w.grad=None #전회의 backward 경사값 초기화\n",
        "  y_pred=torch.mv(x,w)"
      ]
    }
  ]
}
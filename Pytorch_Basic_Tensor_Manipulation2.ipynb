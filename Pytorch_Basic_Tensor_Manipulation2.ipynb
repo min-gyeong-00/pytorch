{
  "nbformat": 4,
  "nbformat_minor": 0,
  "metadata": {
    "colab": {
      "provenance": [],
      "authorship_tag": "ABX9TyMhVzFyP+7qi51eryqchlZr",
      "include_colab_link": true
    },
    "kernelspec": {
      "name": "python3",
      "display_name": "Python 3"
    },
    "language_info": {
      "name": "python"
    }
  },
  "cells": [
    {
      "cell_type": "markdown",
      "metadata": {
        "id": "view-in-github",
        "colab_type": "text"
      },
      "source": [
        "<a href=\"https://colab.research.google.com/github/min-gyeong-00/pytorch/blob/main/Pytorch_Basic_Tensor_Manipulation2.ipynb\" target=\"_parent\"><img src=\"https://colab.research.google.com/assets/colab-badge.svg\" alt=\"Open In Colab\"/></a>"
      ]
    },
    {
      "cell_type": "code",
      "execution_count": 20,
      "metadata": {
        "colab": {
          "base_uri": "https://localhost:8080/"
        },
        "id": "3Gfwsdp75frB",
        "outputId": "ef8457f3-b0b0-45cb-f8ec-53bc069ced7a"
      },
      "outputs": [
        {
          "output_type": "stream",
          "name": "stdout",
          "text": [
            "torch.Size([2, 2, 3])\n",
            "tensor([[ 0.,  1.,  2.],\n",
            "        [ 3.,  4.,  5.],\n",
            "        [ 6.,  7.,  8.],\n",
            "        [ 9., 10., 11.]])\n",
            "torch.Size([4, 3])\n",
            "tensor([[[ 0.,  1.,  2.]],\n",
            "\n",
            "        [[ 3.,  4.,  5.]],\n",
            "\n",
            "        [[ 6.,  7.,  8.]],\n",
            "\n",
            "        [[ 9., 10., 11.]]])\n",
            "torch.Size([4, 1, 3])\n"
          ]
        }
      ],
      "source": [
        "import torch\n",
        "import numpy as np\n",
        "\n",
        "#View(Reshape)\n",
        "t=np.array([[[0,1,2],[3,4,5]],[[6,7,8],[9,10,11]]])\n",
        "ft=torch.FloatTensor(t)\n",
        "print(ft.shape)\n",
        "\n",
        "print(ft.view([-1,3]))\n",
        "print(ft.view([-1,3]).shape)\n",
        "\n",
        "print(ft.view([-1,1,3]))\n",
        "print(ft.view([-1,1,3]).shape)"
      ]
    },
    {
      "cell_type": "code",
      "source": [
        "#Squeeze -1없앰\n",
        "\n",
        "ft=torch.FloatTensor([0,1,2])\n",
        "print(ft)\n",
        "print(ft.shape)\n",
        "print(ft.squeeze())\n",
        "print(ft.squeeze().shape)\n",
        "\n",
        "#Unsqueeze\n",
        "ft=torch.Tensor([0,1,2])\n",
        "print(ft.shape)\n",
        "print(ft.unsqueeze(0))\n",
        "print(ft.unsqueeze(0).shape)\n",
        "\n",
        "print(ft.view(1,-1))\n",
        "print(ft.view(1,-1).shape)\n",
        "\n",
        "print(ft.unsqueeze(1))\n",
        "print(ft.unsqueeze(1).shape)\n",
        "\n",
        "print(ft.unsqueeze(-1))\n",
        "print(ft.unsqueeze(-1).shape)\n"
      ],
      "metadata": {
        "id": "kLTN11FnA0FE",
        "colab": {
          "base_uri": "https://localhost:8080/"
        },
        "outputId": "c6f59b97-1235-4ccf-acae-752e83ce3e14"
      },
      "execution_count": 22,
      "outputs": [
        {
          "output_type": "stream",
          "name": "stdout",
          "text": [
            "tensor([0., 1., 2.])\n",
            "torch.Size([3])\n",
            "tensor([0., 1., 2.])\n",
            "torch.Size([3])\n",
            "torch.Size([3])\n",
            "tensor([[0., 1., 2.]])\n",
            "torch.Size([1, 3])\n",
            "tensor([[0., 1., 2.]])\n",
            "torch.Size([1, 3])\n",
            "tensor([[0.],\n",
            "        [1.],\n",
            "        [2.]])\n",
            "torch.Size([3, 1])\n",
            "tensor([[0.],\n",
            "        [1.],\n",
            "        [2.]])\n",
            "torch.Size([3, 1])\n"
          ]
        }
      ]
    },
    {
      "cell_type": "code",
      "source": [
        "#Type casting\n",
        "\n",
        "lt=torch.LongTensor([1,2,3,4])\n",
        "print(lt)\n",
        "\n",
        "print(lt.float())\n",
        "bt=torch.ByteTensor([True,False,False,True])\n",
        "print(bt)\n",
        "\n",
        "print(bt.long())\n",
        "print(bt.float())\n",
        "\n",
        "\n",
        "#Concatenate\n",
        "x=torch.FloatTensor([[1,2],[3,4]])\n",
        "y=torch.FloatTensor([[5,6],[7,8]])\n",
        "print(torch.cat([x,y],dim=0))\n",
        "print(torch.cat([x,y],dim=1))\n",
        "\n",
        "#Stacking\n",
        "x=torch.FloatTensor([1,4])\n",
        "y=torch.FloatTensor([2,5])\n",
        "z=torch.FloatTensor([3,6])\n",
        "\n",
        "print(torch.stack([x,y,z]))\n",
        "print(torch.stack([x,y,z],dim=1))\n",
        "\n",
        "print(torch.cat([x.unsqueeze(0),y.unsqueeze(0),z.unsqueeze(0)],dim=0))\n",
        "\n",
        "#Ones and Zeros\n",
        "x=torch.FloatTensor([[0,1,2],[3,4,5]])\n",
        "print(x)\n",
        "\n",
        "print(torch.ones_like(x))\n",
        "print(torch.zeros_like(x))\n",
        "\n",
        "#In-place Operation\n",
        "x=torch.FloatTensor([[1,2],[3,4]])\n",
        "print(x.mul(2.))\n",
        "print(x)\n",
        "print(x.mul_(2.))\n",
        "print(x)"
      ],
      "metadata": {
        "colab": {
          "base_uri": "https://localhost:8080/"
        },
        "id": "WSiGE4-uPlj4",
        "outputId": "66b2879a-d913-40b3-e0c7-4ede096cb8e2"
      },
      "execution_count": 25,
      "outputs": [
        {
          "output_type": "stream",
          "name": "stdout",
          "text": [
            "tensor([1, 2, 3, 4])\n",
            "tensor([1., 2., 3., 4.])\n",
            "tensor([1, 0, 0, 1], dtype=torch.uint8)\n",
            "tensor([1, 0, 0, 1])\n",
            "tensor([1., 0., 0., 1.])\n",
            "tensor([[1., 2.],\n",
            "        [3., 4.],\n",
            "        [5., 6.],\n",
            "        [7., 8.]])\n",
            "tensor([[1., 2., 5., 6.],\n",
            "        [3., 4., 7., 8.]])\n",
            "tensor([[1., 4.],\n",
            "        [2., 5.],\n",
            "        [3., 6.]])\n",
            "tensor([[1., 2., 3.],\n",
            "        [4., 5., 6.]])\n",
            "tensor([[1., 4.],\n",
            "        [2., 5.],\n",
            "        [3., 6.]])\n"
          ]
        }
      ]
    }
  ]
}
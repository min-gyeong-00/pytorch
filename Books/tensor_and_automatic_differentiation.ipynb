{
  "nbformat": 4,
  "nbformat_minor": 0,
  "metadata": {
    "colab": {
      "provenance": [],
      "authorship_tag": "ABX9TyOjPc7CczAVl5RSAFVyvljQ",
      "include_colab_link": true
    },
    "kernelspec": {
      "name": "python3",
      "display_name": "Python 3"
    },
    "language_info": {
      "name": "python"
    }
  },
  "cells": [
    {
      "cell_type": "markdown",
      "metadata": {
        "id": "view-in-github",
        "colab_type": "text"
      },
      "source": [
        "<a href=\"https://colab.research.google.com/github/min-gyeong-00/pytorch/blob/main/tensor_and_automatic_differentiation.ipynb\" target=\"_parent\"><img src=\"https://colab.research.google.com/assets/colab-badge.svg\" alt=\"Open In Colab\"/></a>"
      ]
    },
    {
      "cell_type": "code",
      "execution_count": null,
      "metadata": {
        "id": "-2uoiBiSElo7"
      },
      "outputs": [],
      "source": [
        "#https://wikidocs.net/60754\n",
        "\n",
        "\n",
        "#tensor 에 requries_grad 속성을 True 로 설정 시 자동 미분 기능이 활성화되며, 계산 이용 시 계산 그래프가 생성되고, 여기에 backward 메서드 호출 시 그래프로부터 자동으로 미분 계산\n",
        "x=torch.randn(100,3)\n",
        "a=torch.tensor([1,2,3.],requires_grad=True)\n",
        "y=torch.mv(x,a)\n",
        "o=y.sum()\n",
        "\n",
        "o.backward() # 미분 \n",
        "\n",
        "a.grad!=x.sum(0)\n",
        "\n",
        "\n",
        "\n",
        "\n",
        "\n",
        "\n",
        "\n",
        "\n",
        "\n",
        "\n"
      ]
    }
  ]
}